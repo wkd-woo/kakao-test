{
 "cells": [
  {
   "cell_type": "code",
   "execution_count": null,
   "metadata": {
    "collapsed": true,
    "pycharm": {
     "name": "#%%\n"
    }
   },
   "outputs": [],
   "source": [
    "def solution(info, query):\n",
    "    answer = [0] * len(info)\n",
    "\n",
    "    for i, cond in enumerate(query):\n",
    "        cond = cond.replace('and', '')\n",
    "        cond = cond.split()\n",
    "        language = cond[0]  # 개발언어\n",
    "        position = cond[1]  # 직군\n",
    "        career = cond[2]  # 경력\n",
    "        food = cond[3]  # 소울푸드\n",
    "        score = cond[4]  # 점수\n",
    "\n",
    "        for each in info:\n",
    "            one = each.split()\n",
    "            if (language == '-' or language == one[0]) and (position == '-' or position == one[1]) and (\n",
    "                    career == '-' or career == one[2]) and (food == '-' or food == one[3]):\n",
    "                if one[4] >= score:\n",
    "                    answer[i] += 1\n",
    "\n",
    "    return answer"
   ]
  },
  {
   "cell_type": "code",
   "execution_count": null,
   "outputs": [],
   "source": [
    "def solution(info, query):\n",
    "    answer = [0] * len(info)\n",
    "\n",
    "    for i, cond in enumerate(query):\n",
    "        cond = cond.replace('and', '')\n",
    "        cond = cond.split()\n",
    "        language = cond[0]  # 개발언어\n",
    "        position = cond[1]  # 직군\n",
    "        career = cond[2]  # 경력\n",
    "        food = cond[3]  # 소울푸드\n",
    "        score = cond[4]  # 점수\n",
    "        if score != '-':\n",
    "            score = int(score)\n",
    "\n",
    "        for each in info:\n",
    "            one = each.split()\n",
    "            if language != '-' and language != one[0]:\n",
    "                continue\n",
    "            if position != '-' and position != one[1]:\n",
    "                continue\n",
    "            if career != '-' and career != one[2]:\n",
    "                continue\n",
    "            if food != '-' and food != one[3]:\n",
    "                continue\n",
    "\n",
    "            temp = int(one[4])\n",
    "            if temp >= score:\n",
    "                answer[i] += 1\n",
    "\n",
    "    return answer"
   ],
   "metadata": {
    "collapsed": false,
    "pycharm": {
     "name": "#%%\n"
    }
   }
  }
 ],
 "metadata": {
  "kernelspec": {
   "display_name": "Python 3",
   "language": "python",
   "name": "python3"
  },
  "language_info": {
   "codemirror_mode": {
    "name": "ipython",
    "version": 2
   },
   "file_extension": ".py",
   "mimetype": "text/x-python",
   "name": "python",
   "nbconvert_exporter": "python",
   "pygments_lexer": "ipython2",
   "version": "2.7.6"
  }
 },
 "nbformat": 4,
 "nbformat_minor": 0
}