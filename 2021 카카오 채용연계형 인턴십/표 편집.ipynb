{
 "cells": [
  {
   "cell_type": "code",
   "execution_count": 30,
   "metadata": {
    "collapsed": true
   },
   "outputs": [],
   "source": [
    "def solution(n, k, cmd):\n",
    "    stack = []\n",
    "    answer = ['O'] * n\n",
    "    table = [0 for _ in range(n)]\n",
    "\n",
    "    for c in cmd:\n",
    "        if c[0] == 'C': # 삭제\n",
    "            stack.append(k)\n",
    "            answer[k] = 'X'\n",
    "            table = table[:k-1] + table[k+1:] # 삭제\n",
    "\n",
    "            if k > len(table) - 1:\n",
    "                k -= 1\n",
    "\n",
    "        elif c[0] == 'D': # 커서 아래로\n",
    "            temp = c[2]\n",
    "            k += int(temp)\n",
    "        elif c[0] == 'U': # 커서 위로\n",
    "            temp = c[2]\n",
    "            k -= int(temp)\n",
    "\n",
    "        elif c[0] == 'Z': # 다시 제자리로\n",
    "            pos = stack.pop()\n",
    "            table = table[:pos-1] + [0] + table[pos-1:] # 삭제\n",
    "            answer[pos] = 'O'\n",
    "\n",
    "            if pos <= k:\n",
    "                k += 1\n",
    "\n",
    "    return ''.join(answer)"
   ]
  },
  {
   "cell_type": "code",
   "execution_count": 31,
   "outputs": [
    {
     "data": {
      "text/plain": "'OOOXOOOO'"
     },
     "execution_count": 31,
     "metadata": {},
     "output_type": "execute_result"
    }
   ],
   "source": [
    "solution(8, 2, [\"D 12\", \"C\", \"U 3\", \"C\", \"D 4\", \"C\", \"U 2\", \"Z\", \"Z\"])"
   ],
   "metadata": {
    "collapsed": false,
    "pycharm": {
     "name": "#%%\n"
    }
   }
  },
  {
   "cell_type": "code",
   "execution_count": 27,
   "outputs": [
    {
     "data": {
      "text/plain": "'OOXOXOOO'"
     },
     "execution_count": 27,
     "metadata": {},
     "output_type": "execute_result"
    }
   ],
   "source": [
    "solution(8, 2, [\"D 2\",\"C\",\"U 3\",\"C\",\"D 4\",\"C\",\"U 2\",\"Z\",\"Z\",\"U 1\",\"C\"])"
   ],
   "metadata": {
    "collapsed": false,
    "pycharm": {
     "name": "#%%\n"
    }
   }
  },
  {
   "cell_type": "code",
   "execution_count": 20,
   "outputs": [],
   "source": [
    "import copy\n",
    "\n",
    "\n",
    "def solution(n, k, cmd):\n",
    "    stack = []\n",
    "    idx_stack = []\n",
    "    answer = ['O'] * n\n",
    "    table = [0 for _ in range(n)]\n",
    "\n",
    "    for c in cmd:\n",
    "        if c[0] == 'C': # 삭제\n",
    "            stack.append(copy.deepcopy(table))\n",
    "            idx_stack.append(k)\n",
    "            answer[k] = 'X'\n",
    "            table = table[:k-1] + table[k+1:] # 삭제\n",
    "\n",
    "            if k > len(table) - 1:\n",
    "                k -= 1\n",
    "\n",
    "        elif c[0] == 'D': # 커서 아래로\n",
    "            temp = c[2]\n",
    "            k += int(temp)\n",
    "        elif c[0] == 'U': # 커서 위로\n",
    "            temp = c[2]\n",
    "            k -= int(temp)\n",
    "\n",
    "        elif c[0] == 'Z': # 다시 제자리로\n",
    "            table = stack.pop()\n",
    "            pos = idx_stack.pop()\n",
    "            answer[pos] = 'O'\n",
    "\n",
    "            if pos <= k:\n",
    "                k += 1\n",
    "\n",
    "    return ''.join(answer)"
   ],
   "metadata": {
    "collapsed": false,
    "pycharm": {
     "name": "#%%\n"
    }
   }
  },
  {
   "cell_type": "code",
   "execution_count": 21,
   "outputs": [
    {
     "data": {
      "text/plain": "'OXOOXXOO'"
     },
     "execution_count": 21,
     "metadata": {},
     "output_type": "execute_result"
    }
   ],
   "source": [
    "solution(8, 2, [\"D 2\", \"C\", \"U 3\", \"C\", \"D 4\", \"C\", \"U 2\", \"Z\", \"Z\"])"
   ],
   "metadata": {
    "collapsed": false,
    "pycharm": {
     "name": "#%%\n"
    }
   }
  },
  {
   "cell_type": "code",
   "execution_count": null,
   "outputs": [],
   "source": [],
   "metadata": {
    "collapsed": false,
    "pycharm": {
     "name": "#%%\n"
    }
   }
  }
 ],
 "metadata": {
  "kernelspec": {
   "display_name": "Python 3",
   "language": "python",
   "name": "python3"
  },
  "language_info": {
   "codemirror_mode": {
    "name": "ipython",
    "version": 2
   },
   "file_extension": ".py",
   "mimetype": "text/x-python",
   "name": "python",
   "nbconvert_exporter": "python",
   "pygments_lexer": "ipython2",
   "version": "2.7.6"
  }
 },
 "nbformat": 4,
 "nbformat_minor": 0
}