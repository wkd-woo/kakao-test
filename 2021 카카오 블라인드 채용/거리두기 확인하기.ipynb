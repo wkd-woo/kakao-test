{
 "cells": [
  {
   "cell_type": "code",
   "execution_count": 176,
   "outputs": [],
   "source": [
    "from collections import deque\n",
    "\n",
    "# 좌표평면 상하좌우\n",
    "dx = [-1, 1, 0, 0, 1, 1, -1, -1]\n",
    "dy = [0, 0, -1, 1, -1, 1, 1, -1]\n",
    "\n",
    "\n",
    "def bfs(graph, x, y):\n",
    "    n = len(graph)\n",
    "    queue = deque()\n",
    "    queue.append((x, y))\n",
    "    px, py = (x, y)  # p의 x, y값\n",
    "    while queue:\n",
    "        x, y = queue.popleft()\n",
    "        for i in range(4):\n",
    "            nx = x + dx[i]  # 상하좌우 돌면서 확인\n",
    "            ny = y + dy[i]\n",
    "\n",
    "            # 그래프 범위에서 벗어나면 생략함\n",
    "            if nx < 0 or nx >= n or ny < 0 or ny >= n:\n",
    "                continue\n",
    "\n",
    "            dist = abs(px - nx) + abs(py - ny)  # px랑 py를 비교\n",
    "\n",
    "            if graph[nx][ny] == 'O':  # 현 위치에서 그래프 값이 O\n",
    "                queue.append((nx, ny))  # 현 위치 좌표를 queue에 추가\n",
    "\n",
    "            elif graph[nx][ny] == 'P' and dist == 2:  # 현 위치에서 그래프 값이 P인데 맨해튼 거리가 안 지켜지면\n",
    "                if abs(nx - px) == 1 and abs(ny - py) == 1:  # 대각선에 있는데\n",
    "                    if graph[nx][py] == 'X' and graph[px][ny] == 'X':  # 둘 다 막혀있으면\n",
    "                        queue.append((nx, ny))  # 현 위치 좌표를 queue에 추가\n",
    "                        px, py = (nx, ny)\n",
    "                    else:  # 하나라도 뚫려있으면\n",
    "                        return False\n",
    "                elif (abs(nx - px) == 2 or abs(ny - py) == 2) and graph[x][y] == 'X':  # 일직선에 있는데 파티션이 존재하면\n",
    "                    queue.append((nx, ny))  # 현 위치 좌표를 queue에 추가\n",
    "                    px, py = (nx, ny)\n",
    "                else:\n",
    "                    return False\n",
    "            elif graph[nx][ny] == 'P' and dist < 2:\n",
    "                return False\n",
    "\n",
    "            elif graph[nx][ny] == 'P' and dist > 2:  # 현 위치에서 그래프 값이 P인데 맨해튼 거리가 지켜지면\n",
    "                queue.append((nx, ny))  # 현 위치 좌표를 queue에 추가\n",
    "                px, py = (nx, ny)\n",
    "\n",
    "    return True\n",
    "\n",
    "\n",
    "def solution(places):\n",
    "    answer = []\n",
    "    for place in places:\n",
    "        graph = [list(row) for row in place]\n",
    "        cond = True\n",
    "        for i in range(len(place)):\n",
    "            for j in range(len(place)):\n",
    "                if graph[i][j] == 'P':\n",
    "                    cond = bfs(graph, i, j)\n",
    "                if not cond:\n",
    "                    answer.append(0)\n",
    "                    break\n",
    "            if not cond:\n",
    "                break\n",
    "        if cond:\n",
    "            answer.append(1)\n",
    "    return answer"
   ],
   "metadata": {
    "collapsed": false,
    "pycharm": {
     "name": "#%%\n"
    }
   }
  },
  {
   "cell_type": "code",
   "execution_count": 177,
   "outputs": [
    {
     "data": {
      "text/plain": "[0, 0, 0, 1, 1]"
     },
     "execution_count": 177,
     "metadata": {},
     "output_type": "execute_result"
    }
   ],
   "source": [
    "solution([[\"POOOP\", \"OXXOX\", \"OPXPX\", \"OOXOX\", \"POXXP\"], [\"POOPX\", \"OXPXP\", \"PXXXO\", \"OXXXO\", \"OOOPP\"],\n",
    "          [\"PXOPX\", \"OXOXP\", \"OXPOX\", \"OXXOP\", \"PXPOX\"], [\"OOOXX\", \"XOOOX\", \"OOOXX\", \"OXOOX\", \"OOOOO\"],\n",
    "          [\"PXPXP\", \"XPXPX\", \"PXPXP\", \"XPXPX\", \"PXPXP\"]])"
   ],
   "metadata": {
    "collapsed": false,
    "pycharm": {
     "name": "#%%\n"
    }
   }
  },
  {
   "cell_type": "code",
   "execution_count": 178,
   "outputs": [
    {
     "data": {
      "text/plain": "[0, 0, 0, 0, 0]"
     },
     "execution_count": 178,
     "metadata": {},
     "output_type": "execute_result"
    }
   ],
   "source": [
    "solution([[\"OOPOO\", \"OPOOO\", \"OOOOO\", \"OOOOO\", \"OOOOO\"], [\"OOPOO\", \"OPXOO\", \"OOOOO\", \"OOOOO\", \"OOOOO\"],\n",
    "          [\"POOPX\", \"OXPXP\", \"PXXXO\", \"OXXXO\", \"OOOPP\"],\n",
    "          [\"OXPOP\", \"OXOXP\", \"OXPOX\", \"OXXOP\", \"PXPOX\"], [\"OOOXX\", \"XOPOX\", \"OOOXX\", \"OXPOX\", \"OOOOO\"]])"
   ],
   "metadata": {
    "collapsed": false,
    "pycharm": {
     "name": "#%%\n"
    }
   }
  },
  {
   "cell_type": "code",
   "execution_count": 143,
   "outputs": [
    {
     "data": {
      "text/plain": "[['P', 'X', 'O', 'P', 'X'],\n ['O', 'X', 'O', 'X', 'P'],\n ['O', 'X', 'P', 'O', 'X'],\n ['O', 'X', 'X', 'O', 'P'],\n ['P', 'X', 'P', 'O', 'X']]"
     },
     "execution_count": 143,
     "metadata": {},
     "output_type": "execute_result"
    }
   ],
   "source": [
    "[list(row) for row in [\"PXOPX\", \"OXOXP\", \"OXPOX\", \"OXXOP\", \"PXPOX\"]]"
   ],
   "metadata": {
    "collapsed": false,
    "pycharm": {
     "name": "#%%\n"
    }
   }
  },
  {
   "cell_type": "code",
   "execution_count": 144,
   "outputs": [
    {
     "data": {
      "text/plain": "[['O', 'O', 'P', 'O', 'O'],\n ['O', 'P', 'O', 'O', 'O'],\n ['O', 'O', 'O', 'O', 'O'],\n ['O', 'O', 'O', 'O', 'O'],\n ['O', 'O', 'O', 'O', 'O']]"
     },
     "execution_count": 144,
     "metadata": {},
     "output_type": "execute_result"
    }
   ],
   "source": [
    "[list(row) for row in [\"OOPOO\", \"OPOOO\", \"OOOOO\", \"OOOOO\", \"OOOOO\"]]"
   ],
   "metadata": {
    "collapsed": false,
    "pycharm": {
     "name": "#%%\n"
    }
   }
  },
  {
   "cell_type": "code",
   "execution_count": 146,
   "outputs": [
    {
     "data": {
      "text/plain": "[['O', 'O', 'P', 'O', 'O'],\n ['O', 'P', 'X', 'O', 'O'],\n ['O', 'O', 'O', 'O', 'O'],\n ['O', 'O', 'O', 'O', 'O'],\n ['O', 'O', 'O', 'O', 'O']]"
     },
     "execution_count": 146,
     "metadata": {},
     "output_type": "execute_result"
    }
   ],
   "source": [
    "[list(row) for row in [\"OOPOO\", \"OPXOO\", \"OOOOO\", \"OOOOO\", \"OOOOO\"]]"
   ],
   "metadata": {
    "collapsed": false,
    "pycharm": {
     "name": "#%%\n"
    }
   }
  },
  {
   "cell_type": "code",
   "execution_count": null,
   "outputs": [],
   "source": [],
   "metadata": {
    "collapsed": false,
    "pycharm": {
     "name": "#%%\n"
    }
   }
  }
 ],
 "metadata": {
  "kernelspec": {
   "display_name": "Python 3",
   "language": "python",
   "name": "python3"
  },
  "language_info": {
   "codemirror_mode": {
    "name": "ipython",
    "version": 2
   },
   "file_extension": ".py",
   "mimetype": "text/x-python",
   "name": "python",
   "nbconvert_exporter": "python",
   "pygments_lexer": "ipython2",
   "version": "2.7.6"
  }
 },
 "nbformat": 4,
 "nbformat_minor": 0
}