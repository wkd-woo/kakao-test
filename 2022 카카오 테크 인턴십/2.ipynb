{
 "cells": [
  {
   "cell_type": "code",
   "execution_count": null,
   "outputs": [],
   "source": [
    "    def find_diff(nums, target):\n",
    "    # target - nums 값을 seen에서 찾고 없으면 seen에 추가\n",
    "    seen = {}\n",
    "\n",
    "    for idx, val in enumerate(nums):\n",
    "        another = target - val\n",
    "\n",
    "        if another in seen:\n",
    "            # seen에 넣었던 값이 먼저 return 돼야 한다.\n",
    "            return [seen[another], idx]\n",
    "        else:\n",
    "            seen[val] = idx"
   ],
   "metadata": {
    "collapsed": false,
    "pycharm": {
     "name": "#%%\n"
    }
   }
  },
  {
   "cell_type": "code",
   "execution_count": null,
   "outputs": [],
   "source": [],
   "metadata": {
    "collapsed": false,
    "pycharm": {
     "name": "#%%\n"
    }
   }
  },
  {
   "cell_type": "code",
   "execution_count": 10,
   "outputs": [],
   "source": [
    "from collections import deque\n",
    "import sys\n",
    "sys.setrecursionlimit(10**6)\n",
    "\n",
    "tried = list()\n",
    "\n",
    "def solution(queue1, queue2):\n",
    "    answer = int(1e9)\n",
    "    target = sum(queue1 + queue2)  # target 먼저 구하고\n",
    "    if target % 2 == 1:\n",
    "        return -1\n",
    "\n",
    "    diff = abs(sum(queue1) - sum(queue2))  # 두개 차이 구함\n",
    "\n",
    "    cnt = 0\n",
    "    if diff in queue1:  # 방법 1\n",
    "        if diff == queue1[0]:\n",
    "            answer = min(cnt + 1, answer)\n",
    "        elif diff == queue1[-1]:\n",
    "            answer = min(cnt + len(queue2) + len(queue1) - 1, answer)\n",
    "\n",
    "    elif diff in queue2:\n",
    "        if diff == queue2[0]:\n",
    "            answer = min(cnt + 1, answer)\n",
    "        elif diff == queue2[-1]:\n",
    "            answer = min(cnt + len(queue1) + len(queue2) - 1, answer)\n",
    "\n",
    "\n",
    "\n",
    "    res = find_diff(queue1, diff)\n",
    "    if res is not None:\n",
    "        answer = min(queue1.index(res[1]) + res[1], answer)\n",
    "        print(answer)\n",
    "\n",
    "    if answer == int(1e9):\n",
    "        return -1\n",
    "    else:\n",
    "        return answer"
   ],
   "metadata": {
    "collapsed": false,
    "pycharm": {
     "name": "#%%\n"
    }
   }
  },
  {
   "cell_type": "code",
   "execution_count": 11,
   "outputs": [
    {
     "data": {
      "text/plain": "7"
     },
     "execution_count": 11,
     "metadata": {},
     "output_type": "execute_result"
    }
   ],
   "source": [
    "solution([3, 2, 7, 2], [4, 6, 5, 1])"
   ],
   "metadata": {
    "collapsed": false,
    "pycharm": {
     "name": "#%%\n"
    }
   }
  },
  {
   "cell_type": "code",
   "execution_count": null,
   "outputs": [],
   "source": [],
   "metadata": {
    "collapsed": false,
    "pycharm": {
     "name": "#%%\n"
    }
   }
  }
 ],
 "metadata": {
  "kernelspec": {
   "display_name": "Python 3",
   "language": "python",
   "name": "python3"
  },
  "language_info": {
   "codemirror_mode": {
    "name": "ipython",
    "version": 2
   },
   "file_extension": ".py",
   "mimetype": "text/x-python",
   "name": "python",
   "nbconvert_exporter": "python",
   "pygments_lexer": "ipython2",
   "version": "2.7.6"
  }
 },
 "nbformat": 4,
 "nbformat_minor": 0
}