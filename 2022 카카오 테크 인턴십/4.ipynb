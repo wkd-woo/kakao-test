{
 "cells": [
  {
   "cell_type": "code",
   "execution_count": null,
   "metadata": {
    "collapsed": true
   },
   "outputs": [],
   "source": [
    "\n",
    "\n",
    "INF = int(1e9)\n",
    "\n",
    "\n",
    "def dijkstra(start, visited):\n",
    "    heap = []\n",
    "    global distance\n",
    "    global graph\n",
    "    intensity = INF\n",
    "    distance[start] = 0  # 시작지점은 0\n",
    "    heappush(heap, (0, start))\n",
    "\n",
    "    while heap:\n",
    "        dist, now = heappop(heap)\n",
    "        if distance[now] < dist:\n",
    "            continue\n",
    "        if visited[now]:  # 방문했으면 생략\n",
    "            continue\n",
    "\n",
    "        for next, next_cost in graph[now]:\n",
    "            cost = dist + next_cost\n",
    "            if cost < distance[next]:\n",
    "                distance[next] = cost\n",
    "                heappush(heap, (cost, next))\n"
   ]
  },
  {
   "cell_type": "code",
   "execution_count": 32,
   "outputs": [],
   "source": [
    "\n",
    "\n",
    "INF = int(1e9)\n",
    "\n",
    "\n",
    "def dijkstra(graph, start, summit, visited, distance):\n",
    "    heap = []\n",
    "    intensity = 0\n",
    "    distance[start] = 0  # 시작지점은 0\n",
    "    heappush(heap, (0, start))\n",
    "\n",
    "    while heap:\n",
    "        dist, now = heappop(heap)\n",
    "        if distance[now] < dist:\n",
    "            continue\n",
    "\n",
    "        for next, next_cost in graph[now]:\n",
    "            cost = dist + next_cost\n",
    "            intensity = max(intensity, next_cost)\n",
    "            if cost < distance[next]:\n",
    "                distance[next] = cost\n",
    "                heappush(heap, (cost, next))\n",
    "                if next == summit:\n",
    "                    return intensity\n",
    "    return intensity\n",
    "\n",
    "\n",
    "routes = dict()\n",
    "\n",
    "\n",
    "def solution(n, paths, gates, summits):\n",
    "    graph = {i: [] for i in range(1, n + 1)}\n",
    "    global routes\n",
    "    for summit in summits:\n",
    "        routes[summit] = 0\n",
    "\n",
    "    for path in paths:\n",
    "        a = path[0]\n",
    "        b = path[1]\n",
    "        c = path[2]\n",
    "        graph[a].append([b, c])\n",
    "        graph[b].append([a, c])\n",
    "\n",
    "    for gate in gates:\n",
    "        for summit in summits:\n",
    "            distance = [INF] * (n + 1)\n",
    "            visited = [False] * (n + 1)\n",
    "            a = dijkstra(graph, gate, summit, visited, distance)\n",
    "            print(distance[summit])\n",
    "            print(a)\n",
    "    answer = []\n",
    "    return answer"
   ],
   "metadata": {
    "collapsed": false,
    "pycharm": {
     "name": "#%%\n"
    }
   }
  },
  {
   "cell_type": "code",
   "execution_count": 33,
   "outputs": [
    {
     "name": "stdout",
     "output_type": "stream",
     "text": [
      "7\n",
      "5\n",
      "7\n",
      "5\n"
     ]
    },
    {
     "data": {
      "text/plain": "[]"
     },
     "execution_count": 33,
     "metadata": {},
     "output_type": "execute_result"
    }
   ],
   "source": [
    "solution(6, [[1, 2, 3], [2, 3, 5], [2, 4, 2], [2, 5, 4], [3, 4, 4], [4, 5, 3], [4, 6, 1], [5, 6, 1]], [1, 3], [5])"
   ],
   "metadata": {
    "collapsed": false,
    "pycharm": {
     "name": "#%%\n"
    }
   }
  },
  {
   "cell_type": "code",
   "execution_count": null,
   "outputs": [],
   "source": [
    "from heapq import heappush, heappop\n",
    "\n",
    "INF = int(1e9)\n",
    "routes = dict()\n",
    "\n",
    "\n",
    "def dfs(graph, start_node):\n",
    "    visited = []\n",
    "    stack = []\n",
    "    stack.append(start_node)\n",
    "\n",
    "    while stack:\n",
    "        node = stack.pop()\n",
    "\n",
    "        if node not in visited:\n",
    "            visited.append(node)\n",
    "            stack += reversed(graph[node])\n",
    "\n",
    "    for each in visited:\n",
    "        print(each, end=' ')\n",
    "\n",
    "\n",
    "def solution(n, paths, gates, summits):\n",
    "    graph = {i: [] for i in range(1, n + 1)}\n",
    "    routes = dict()\n",
    "    for summit in summits:\n",
    "        routes[summit] = 0\n",
    "\n",
    "    for path in paths:\n",
    "        a = path[0]\n",
    "        b = path[1]\n",
    "        c = path[2]\n",
    "        graph[a].append([b, c])\n",
    "        graph[b].append([a, c])\n",
    "\n",
    "    for gate in gates:\n",
    "        dfs(gate, graph)\n",
    "\n",
    "    answer = []\n",
    "    return answer"
   ],
   "metadata": {
    "collapsed": false,
    "pycharm": {
     "name": "#%%\n"
    }
   }
  },
  {
   "cell_type": "code",
   "execution_count": 34,
   "outputs": [],
   "source": [
    "from heapq import heappush, heappop\n",
    "\n",
    "INF = int(1e9)\n",
    "\n",
    "\n",
    "def dijkstra(graph, start, summit, visited, distance):\n",
    "    heap = []\n",
    "    intensity = 0\n",
    "    routes = dict()\n",
    "    routes[summit] = 0\n",
    "\n",
    "    distance[start] = 0  # 시작지점은 0\n",
    "    heappush(heap, (0, start))\n",
    "\n",
    "    while heap:\n",
    "        dist, now = heappop(heap)\n",
    "        if distance[now] < dist:\n",
    "            continue\n",
    "\n",
    "        for next, next_cost in graph[now]:\n",
    "            cost = dist + next_cost # 이거는 다익스트라.\n",
    "            # 만약 next_cost가 적으면?\n",
    "            intensity = max(intensity, next_cost)\n",
    "            routes[summit] = intensity\n",
    "            if cost < distance[next]:\n",
    "                distance[next] = cost\n",
    "                heappush(heap, (cost, next))\n",
    "    return routes\n",
    "\n",
    "\n",
    "def solution(n, paths, gates, summits):\n",
    "    graph = {i: [] for i in range(1, n + 1)}\n",
    "\n",
    "    for path in paths:\n",
    "        a = path[0]\n",
    "        b = path[1]\n",
    "        c = path[2]\n",
    "        graph[a].append([b, c])\n",
    "        graph[b].append([a, c])\n",
    "\n",
    "    for gate in gates:\n",
    "        distance = [INF] * (n + 1)\n",
    "        visited = [False] * (n + 1)\n",
    "        for summit in summits:\n",
    "            a = dijkstra(graph, gate, summit, visited, distance)\n",
    "            print(distance[summit])\n",
    "            print(a)\n",
    "    answer = []\n",
    "    return answer"
   ],
   "metadata": {
    "collapsed": false,
    "pycharm": {
     "name": "#%%\n"
    }
   }
  },
  {
   "cell_type": "code",
   "execution_count": 34,
   "outputs": [],
   "source": [],
   "metadata": {
    "collapsed": false,
    "pycharm": {
     "name": "#%%\n"
    }
   }
  },
  {
   "cell_type": "code",
   "execution_count": null,
   "outputs": [],
   "source": [],
   "metadata": {
    "collapsed": false,
    "pycharm": {
     "name": "#%%\n"
    }
   }
  }
 ],
 "metadata": {
  "kernelspec": {
   "display_name": "Python 3",
   "language": "python",
   "name": "python3"
  },
  "language_info": {
   "codemirror_mode": {
    "name": "ipython",
    "version": 2
   },
   "file_extension": ".py",
   "mimetype": "text/x-python",
   "name": "python",
   "nbconvert_exporter": "python",
   "pygments_lexer": "ipython2",
   "version": "2.7.6"
  }
 },
 "nbformat": 4,
 "nbformat_minor": 0
}