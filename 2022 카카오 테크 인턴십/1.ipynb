{
 "cells": [
  {
   "cell_type": "code",
   "execution_count": null,
   "metadata": {
    "collapsed": true,
    "pycharm": {
     "name": "#%%\n"
    }
   },
   "outputs": [],
   "source": [
    "def solution(survey, choices):\n",
    "    tree = dict()\n",
    "    for i in len(survey):\n",
    "        print(survey[i])\n",
    "        print(choices[i])\n",
    "    answer = ''\n",
    "    return answer"
   ]
  },
  {
   "cell_type": "code",
   "execution_count": null,
   "outputs": [],
   "source": [
    "def solution(survey, choices):\n",
    "    tree = dict()\n",
    "    for i in len(survey):\n",
    "        print(survey[i])\n",
    "        print(choice[i])\n",
    "    answer = ''\n",
    "    return answer"
   ],
   "metadata": {
    "collapsed": false,
    "pycharm": {
     "name": "#%%\n"
    }
   }
  },
  {
   "cell_type": "code",
   "execution_count": 3,
   "outputs": [
    {
     "ename": "ValueError",
     "evalue": "not enough values to unpack (expected 4, got 0)",
     "output_type": "error",
     "traceback": [
      "\u001B[1;31m---------------------------------------------------------------------------\u001B[0m",
      "\u001B[1;31mValueError\u001B[0m                                Traceback (most recent call last)",
      "Input \u001B[1;32mIn [3]\u001B[0m, in \u001B[0;36m<cell line: 1>\u001B[1;34m()\u001B[0m\n\u001B[1;32m----> 1\u001B[0m one, two, three, four \u001B[38;5;241m=\u001B[39m \u001B[38;5;28mdict\u001B[39m()\n",
      "\u001B[1;31mValueError\u001B[0m: not enough values to unpack (expected 4, got 0)"
     ]
    }
   ],
   "source": [
    "one = dict()\n",
    "    two = dict()\n",
    "    three = dict()\n",
    "    four = dict()"
   ],
   "metadata": {
    "collapsed": false,
    "pycharm": {
     "name": "#%%\n"
    }
   }
  },
  {
   "cell_type": "code",
   "execution_count": null,
   "outputs": [],
   "source": [
    "def solution(survey, choices):\n",
    "    answer = ''\n",
    "    one = dict()\n",
    "    two = dict()\n",
    "    three = dict()\n",
    "    four = dict()\n",
    "    one['R'] = 0\n",
    "    one['T'] = 0\n",
    "    two['C'] = 0\n",
    "    two['F'] = 0\n",
    "    three['J'] = 0\n",
    "    three['M'] = 0\n",
    "    four['A'] = 0\n",
    "    four['N'] = 0\n",
    "\n",
    "    for i in range(len(survey)):\n",
    "        opt = list(survey[i])\n",
    "        if 'R' in opt:\n",
    "\n",
    "        if opt\n",
    "        print\n",
    "        if choices[i] == 1:\n",
    "            tree[opt[1]] += 3\n",
    "        elif choices[i] == 2:\n",
    "            tree[opt[1]] += 2\n",
    "        elif choices[i] == 3:\n",
    "            tree[opt[1]] += 1\n",
    "        elif choices[i] == 4:\n",
    "            pass\n",
    "        elif choices[i] == 5:\n",
    "            tree[opt[0]] += 1\n",
    "        elif choices[i] == 6:\n",
    "            tree[opt[0]] += 2\n",
    "        elif choices[i] == 7:\n",
    "            tree[opt[0]] += 3\n",
    "\n",
    "\n",
    "    if tree['R'] == 0 and tree['T'] == 0:\n",
    "        answer += 'R'\n",
    "\n",
    "    if tree['C'] == 0 and tree['F'] == 0:\n",
    "        answer += 'C'\n",
    "\n",
    "    if tree['J'] == 0 and tree['M'] == 0:\n",
    "        answer += 'J'\n",
    "\n",
    "    if tree['A'] == 0 and tree['N'] == 0:\n",
    "        answer += 'A'\n",
    "\n",
    "\n",
    "\n",
    "    for each in survey:\n",
    "        if tree[each[0]] > tree[each[1]]:\n",
    "            if each[0] not in answer:\n",
    "                answer += each[0]\n",
    "        else:\n",
    "            if each[1] not in answer:\n",
    "                answer += each[1]\n",
    "\n",
    "\n",
    "    return answer"
   ],
   "metadata": {
    "collapsed": false,
    "pycharm": {
     "name": "#%%\n"
    }
   }
  },
  {
   "cell_type": "code",
   "execution_count": 4,
   "outputs": [],
   "source": [
    "def solution(survey, choices):\n",
    "    answer = ''\n",
    "    one = dict()\n",
    "    two = dict()\n",
    "    three = dict()\n",
    "    four = dict()\n",
    "    for each in survey:\n",
    "        print(each)"
   ],
   "metadata": {
    "collapsed": false,
    "pycharm": {
     "name": "#%%\n"
    }
   }
  },
  {
   "cell_type": "code",
   "execution_count": 10,
   "outputs": [],
   "source": [
    "def solution(survey, choices):\n",
    "    answer = ''\n",
    "    one = dict()\n",
    "    two = dict()\n",
    "    three = dict()\n",
    "    four = dict()\n",
    "\n",
    "    one['R'] = 0\n",
    "    one['T'] = 0\n",
    "    two['C'] = 0\n",
    "    two['F'] = 0\n",
    "    three['J'] = 0\n",
    "    three['M'] = 0\n",
    "    four['A'] = 0\n",
    "    four['N'] = 0\n",
    "\n",
    "    for i in range(len(survey)):\n",
    "        opt = list(survey[i])\n",
    "        if 'R' in opt: # 1\n",
    "            if choices[i] == 1:\n",
    "                one[opt[0]] += 3\n",
    "            elif choices[i] == 2:\n",
    "                one[opt[0]] += 2\n",
    "            elif choices[i] == 3:\n",
    "                one[opt[0]] += 1\n",
    "            elif choices[i] == 4:\n",
    "                pass\n",
    "            elif choices[i] == 5:\n",
    "                one[opt[1]] += 1\n",
    "            elif choices[i] == 6:\n",
    "                one[opt[1]] += 2\n",
    "            elif choices[i] == 7:\n",
    "                one[opt[1]] += 3\n",
    "        if 'C' in opt: # 1\n",
    "            if choices[i] == 1:\n",
    "                two[opt[0]] += 3\n",
    "            elif choices[i] == 2:\n",
    "                two[opt[0]] += 2\n",
    "            elif choices[i] == 3:\n",
    "                two[opt[0]] += 1\n",
    "            elif choices[i] == 4:\n",
    "                pass\n",
    "            elif choices[i] == 5:\n",
    "                two[opt[1]] += 1\n",
    "            elif choices[i] == 6:\n",
    "                two[opt[1]] += 2\n",
    "            elif choices[i] == 7:\n",
    "                two[opt[1]] += 3\n",
    "        if 'J' in opt: # 1\n",
    "            if choices[i] == 1:\n",
    "                three[opt[0]] += 3\n",
    "            elif choices[i] == 2:\n",
    "                three[opt[0]] += 2\n",
    "            elif choices[i] == 3:\n",
    "                three[opt[0]] += 1\n",
    "            elif choices[i] == 4:\n",
    "                pass\n",
    "            elif choices[i] == 5:\n",
    "                three[opt[1]] += 1\n",
    "            elif choices[i] == 6:\n",
    "                three[opt[1]] += 2\n",
    "            elif choices[i] == 7:\n",
    "                three[opt[1]] += 3\n",
    "        if 'A' in opt: # 1\n",
    "            if choices[i] == 1:\n",
    "                four[opt[0]] += 3\n",
    "            elif choices[i] == 2:\n",
    "                four[opt[0]] += 2\n",
    "            elif choices[i] == 3:\n",
    "                four[opt[0]] += 1\n",
    "            elif choices[i] == 4:\n",
    "                pass\n",
    "            elif choices[i] == 5:\n",
    "                four[opt[1]] += 1\n",
    "            elif choices[i] == 6:\n",
    "                four[opt[1]] += 2\n",
    "            elif choices[i] == 7:\n",
    "                four[opt[1]] += 3\n",
    "\n",
    "    if one['R'] == one['T']:\n",
    "        answer += 'R'\n",
    "    else:\n",
    "        if one['R'] > one['T']:\n",
    "            answer += 'R'\n",
    "        else:\n",
    "            answer += 'T'\n",
    "\n",
    "    if two['C'] == two['F']:\n",
    "        answer += 'C'\n",
    "    else:\n",
    "        if two['C'] > two['F']:\n",
    "            answer += 'C'\n",
    "        else:\n",
    "            answer += 'F'\n",
    "\n",
    "    if three['J'] == three['M']:\n",
    "        answer += 'J'\n",
    "    else:\n",
    "        if three['J'] > three['M']:\n",
    "            answer += 'J'\n",
    "        else:\n",
    "            answer += 'M'\n",
    "\n",
    "    if four['A'] == four['N']:\n",
    "        answer += 'A'\n",
    "    else:\n",
    "        if four['A'] > four['N']:\n",
    "            answer += 'A'\n",
    "        else:\n",
    "            answer += 'N'\n",
    "\n",
    "    return answer"
   ],
   "metadata": {
    "collapsed": false,
    "pycharm": {
     "name": "#%%\n"
    }
   }
  },
  {
   "cell_type": "code",
   "execution_count": 11,
   "outputs": [
    {
     "data": {
      "text/plain": "'TCMA'"
     },
     "execution_count": 11,
     "metadata": {},
     "output_type": "execute_result"
    }
   ],
   "source": [
    "solution([\"AN\", \"CF\", \"MJ\", \"RT\", \"NA\"], [5, 3, 2, 7, 5])"
   ],
   "metadata": {
    "collapsed": false,
    "pycharm": {
     "name": "#%%\n"
    }
   }
  },
  {
   "cell_type": "code",
   "execution_count": null,
   "outputs": [],
   "source": [],
   "metadata": {
    "collapsed": false,
    "pycharm": {
     "name": "#%%\n"
    }
   }
  }
 ],
 "metadata": {
  "kernelspec": {
   "display_name": "Python 3",
   "language": "python",
   "name": "python3"
  },
  "language_info": {
   "codemirror_mode": {
    "name": "ipython",
    "version": 2
   },
   "file_extension": ".py",
   "mimetype": "text/x-python",
   "name": "python",
   "nbconvert_exporter": "python",
   "pygments_lexer": "ipython2",
   "version": "2.7.6"
  }
 },
 "nbformat": 4,
 "nbformat_minor": 0
}